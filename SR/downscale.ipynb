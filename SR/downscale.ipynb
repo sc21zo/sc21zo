{
 "cells": [
  {
   "cell_type": "code",
   "execution_count": 1,
   "id": "52434b21",
   "metadata": {},
   "outputs": [],
   "source": [
    "from PIL import Image\n",
    "import os"
   ]
  },
  {
   "cell_type": "code",
   "execution_count": 2,
   "id": "1862c35b",
   "metadata": {},
   "outputs": [],
   "source": [
    "'''\n",
    "path_gt: path for input direction\n",
    "path_lq: path for output direction\n",
    "scale: scale times of input file. type: int\n",
    "'''\n",
    "\n",
    "def downscale(path_gt,path_lq,scale):\n",
    "    frame_dir=os.walk(path_gt)\n",
    "    for root,dirs,_ in frame_dir:\n",
    "        for sub_dir in dirs:\n",
    "            clip_dir=os.path.join(root, sub_dir)\n",
    "            img_names = os.listdir(clip_dir)\n",
    "            img_names = list(filter(lambda x: x.endswith('.jpg'), img_names))\n",
    "            for img in img_names:\n",
    "                img_path=os.path.join(clip_dir,img)\n",
    "                im=Image.open(img_path)\n",
    "                w,h=im.size\n",
    "                out=im.resize((w//scale,h//scale),Image.BICUBIC)\n",
    "                #out=im.resize((w//scale,h//scale),Image.ANTIALIAS)\n",
    "                save_path=os.path.join(path_lq,sub_dir)\n",
    "                if not os.path.exists(save_path):\n",
    "                    os.makedirs(save_path)\n",
    "                out.save(os.path.join(save_path,img))\n",
    "            print(sub_dir,'finish',scale)"
   ]
  },
  {
   "cell_type": "code",
   "execution_count": null,
   "id": "0c014dbd",
   "metadata": {},
   "outputs": [],
   "source": [
    "#root_path='./edvr_ds_1080/'\n",
    "#path_gt='./edvr_ds/train_fin/gt'\n",
    "#path_gt=os.path.join(root_path,'gt')\n",
    "#path_540=os.path.join(root_path,'lq_540')\n",
    "#path_360=os.path.join(root_path,'lq_360')\n",
    "#path_216=os.path.join(root_path,'lq_216')\n",
    "\n",
    "\n",
    "#downscale(path_gt,path_540,4)\n",
    "#downscale(path_gt,path_360,6)\n",
    "#downscale(path_gt,path_216,10)"
   ]
  }
 ],
 "metadata": {
  "kernelspec": {
   "display_name": "Python 3 (ipykernel)",
   "language": "python",
   "name": "python3"
  },
  "language_info": {
   "codemirror_mode": {
    "name": "ipython",
    "version": 3
   },
   "file_extension": ".py",
   "mimetype": "text/x-python",
   "name": "python",
   "nbconvert_exporter": "python",
   "pygments_lexer": "ipython3",
   "version": "3.9.7"
  }
 },
 "nbformat": 4,
 "nbformat_minor": 5
}
