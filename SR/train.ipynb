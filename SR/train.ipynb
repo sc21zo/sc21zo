{
 "cells": [
  {
   "cell_type": "code",
   "execution_count": null,
   "id": "2b6594fe",
   "metadata": {},
   "outputs": [],
   "source": [
    "! python train -opt option/SR_x4.yml"
   ]
  },
  {
   "cell_type": "code",
   "execution_count": null,
   "id": "3ce14782",
   "metadata": {},
   "outputs": [],
   "source": [
    "! python train -opt option/SR_x6.yml"
   ]
  },
  {
   "cell_type": "code",
   "execution_count": null,
   "id": "284608af",
   "metadata": {},
   "outputs": [],
   "source": [
    "! python train -opt option/SR_x10.yml"
   ]
  }
 ],
 "metadata": {
  "kernelspec": {
   "display_name": "Python 3 (ipykernel)",
   "language": "python",
   "name": "python3"
  },
  "language_info": {
   "codemirror_mode": {
    "name": "ipython",
    "version": 3
   },
   "file_extension": ".py",
   "mimetype": "text/x-python",
   "name": "python",
   "nbconvert_exporter": "python",
   "pygments_lexer": "ipython3",
   "version": "3.9.7"
  }
 },
 "nbformat": 4,
 "nbformat_minor": 5
}
