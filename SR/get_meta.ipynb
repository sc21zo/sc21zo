{
 "cells": [
  {
   "cell_type": "code",
   "execution_count": 16,
   "id": "27f6f533",
   "metadata": {},
   "outputs": [],
   "source": [
    "import os"
   ]
  },
  {
   "cell_type": "code",
   "execution_count": 17,
   "id": "0faa3b81",
   "metadata": {},
   "outputs": [],
   "source": [
    "from PIL import Image"
   ]
  },
  {
   "cell_type": "code",
   "execution_count": 18,
   "id": "b052dedb",
   "metadata": {},
   "outputs": [],
   "source": [
    "#data_path='./edvr_ds/train_fin/gt_4k/'"
   ]
  },
  {
   "cell_type": "code",
   "execution_count": 19,
   "id": "b08eb186",
   "metadata": {},
   "outputs": [],
   "source": [
    "'''\n",
    "To use REDS dataloader, it needs to generate meta information\n",
    "It record the video frame path, video name, video size\n",
    "'''\n",
    "\n",
    "def get_meta(data_path):\n",
    "    with open(os.path.join(data_path,'ds_meta.txt'),'a+') as f:\n",
    "        for root,dirs,_ in os.walk(data_path):\n",
    "            for sub_dir in dirs:\n",
    "                frames=os.listdir(os.path.join(data_path,sub_dir))\n",
    "                num_frames=str(len(frames))\n",
    "                i_tem=Image.open(os.path.join(data_path,sub_dir,'0.jpg'))\n",
    "                w,h=i_tem.size\n",
    "                img_shape=f'({w},{h},3)'\n",
    "                data_info=' '.join([sub_dir,num_frames,img_shape])\n",
    "                f.write(data_info+'\\n')\n",
    "    \n",
    "    "
   ]
  },
  {
   "cell_type": "code",
   "execution_count": null,
   "id": "10dc69fd",
   "metadata": {},
   "outputs": [],
   "source": [
    "#data_path='./edvr_ds/train_fin/gt_4k/'\n",
    "#get_meta(data_path)"
   ]
  }
 ],
 "metadata": {
  "kernelspec": {
   "display_name": "Python 3 (ipykernel)",
   "language": "python",
   "name": "python3"
  },
  "language_info": {
   "codemirror_mode": {
    "name": "ipython",
    "version": 3
   },
   "file_extension": ".py",
   "mimetype": "text/x-python",
   "name": "python",
   "nbconvert_exporter": "python",
   "pygments_lexer": "ipython3",
   "version": "3.9.7"
  }
 },
 "nbformat": 4,
 "nbformat_minor": 5
}
