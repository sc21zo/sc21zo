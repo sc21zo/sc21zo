{
 "cells": [
  {
   "cell_type": "code",
   "execution_count": null,
   "id": "db5bae6c",
   "metadata": {},
   "outputs": [],
   "source": [
    "import os\n",
    "import cv2"
   ]
  },
  {
   "cell_type": "code",
   "execution_count": null,
   "id": "73002145",
   "metadata": {},
   "outputs": [],
   "source": [
    "'''\n",
    "path: path of video\n",
    "file_type: the type of video, default type mp4. must enter string with dot, such as .mp4\n",
    "the video path should be like\n",
    "video_set/videos/vid1.mp4\n",
    "\n",
    "the output dir\n",
    "video_set/pic/vid1/0.png\n",
    "video_set/pic/vid1/1.png\n",
    "video_set/pic/vid2/0.png\n",
    "video_set/pic/vid2/1.png\n",
    "'''\n",
    "\n",
    "def creat_pic(path,file_type='.mp4'):\n",
    "    video_path=path+\"videos/\"\n",
    "    video_list=[vid for vid in os.listdir(video_path) if vid.endswith(file_type)]\n",
    "    pic_path=path+\"pic/\"\n",
    "    for video in video_list:\n",
    "        video_name=video[:video.index(file_type)]\n",
    "        fram_path=pic_path+video_name+'/'\n",
    "        if not os.path.exists(fram_path):\n",
    "            os.makedirs(fram_path)\n",
    "        cap=cv2.VideoCapture(video_path+video)\n",
    "        i=0\n",
    "        while True:\n",
    "            ret,img=cap.read()\n",
    "            if ret:\n",
    "                cv2.imwrite(fram_path+str(i)+'.png',img)\n",
    "                i+=1\n",
    "            else:\n",
    "                break\n",
    "        print('finish',fram_path)"
   ]
  },
  {
   "cell_type": "code",
   "execution_count": null,
   "id": "03c78f0c",
   "metadata": {},
   "outputs": [],
   "source": [
    "\n",
    "#path_sjtu = 'sjtu_8bit_420/'\n",
    "#creat_pic(path_sjtu)"
   ]
  }
 ],
 "metadata": {
  "kernelspec": {
   "display_name": "Python 3 (ipykernel)",
   "language": "python",
   "name": "python3"
  },
  "language_info": {
   "codemirror_mode": {
    "name": "ipython",
    "version": 3
   },
   "file_extension": ".py",
   "mimetype": "text/x-python",
   "name": "python",
   "nbconvert_exporter": "python",
   "pygments_lexer": "ipython3",
   "version": "3.9.7"
  }
 },
 "nbformat": 4,
 "nbformat_minor": 5
}
